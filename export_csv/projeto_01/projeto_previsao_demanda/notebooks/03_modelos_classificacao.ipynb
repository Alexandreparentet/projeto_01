{
 "cells": [
  {
   "cell_type": "markdown",
   "id": "f7bb63db",
   "metadata": {},
   "source": [
    "# Modelagem - Classificação (Evasão de Clientes)"
   ]
  },
  {
   "cell_type": "code",
   "execution_count": null,
   "id": "696aff14",
   "metadata": {},
   "outputs": [],
   "source": [
    "python\n",
    "from sklearn.model_selection import train_test_split\n",
    "from sklearn.ensemble import RandomForestClassifier\n",
    "from sklearn.metrics import classification_report\n",
    "import pandas as pd\n"
   ]
  },
  {
   "cell_type": "code",
   "execution_count": null,
   "id": "ebbcb865",
   "metadata": {},
   "outputs": [],
   "source": [
    "python\n",
    "df = pd.read_csv('../data/processed/dados_limpos.csv')\n"
   ]
  },
  {
   "cell_type": "code",
   "execution_count": null,
   "id": "d454fc3f",
   "metadata": {},
   "outputs": [],
   "source": [
    "python\n",
    "X = df.drop(columns=['evadiu'])\n",
    "y = df['evadiu']\n"
   ]
  },
  {
   "cell_type": "code",
   "execution_count": null,
   "id": "73f501a1",
   "metadata": {},
   "outputs": [],
   "source": [
    "python\n",
    "X_train, X_test, y_train, y_test = train_test_split(X, y, test_size=0.2, random_state=42)\n"
   ]
  },
  {
   "cell_type": "code",
   "execution_count": null,
   "id": "4ef009b1",
   "metadata": {},
   "outputs": [],
   "source": [
    "python\n",
    "model = RandomForestClassifier()\n",
    "model.fit(X_train, y_train)\n",
    "y_pred = model.predict(X_test)\n",
    "print(classification_report(y_test, y_pred))\n"
   ]
  }
 ],
 "metadata": {},
 "nbformat": 4,
 "nbformat_minor": 5
}