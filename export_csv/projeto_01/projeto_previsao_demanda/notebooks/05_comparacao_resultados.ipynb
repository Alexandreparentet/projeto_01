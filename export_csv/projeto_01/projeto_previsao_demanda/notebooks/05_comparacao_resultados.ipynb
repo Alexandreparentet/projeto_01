{
 "cells": [
  {
   "cell_type": "markdown",
   "id": "b0a6a4bf",
   "metadata": {},
   "source": [
    "# Comparação de Modelos"
   ]
  },
  {
   "cell_type": "code",
   "execution_count": null,
   "id": "5d243a33",
   "metadata": {},
   "outputs": [],
   "source": [
    "python\n",
    "import pandas as pd\n",
    "\n",
    "dados = {\n",
    "    'Modelo': ['Random Forest', 'Logistic Regression'],\n",
    "    'Acurácia': [0.89, 0.83],\n",
    "    'F1-Score': [0.87, 0.80]\n",
    "}\n",
    "\n",
    "resultados = pd.DataFrame(dados)\n",
    "resultados\n"
   ]
  }
 ],
 "metadata": {},
 "nbformat": 4,
 "nbformat_minor": 5
}