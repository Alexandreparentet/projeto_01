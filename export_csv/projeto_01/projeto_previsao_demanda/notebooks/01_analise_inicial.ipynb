{
 "cells": [
  {
   "cell_type": "markdown",
   "id": "93eb214d",
   "metadata": {},
   "source": [
    "# Análise Exploratória de Dados - COMPREUP"
   ]
  },
  {
   "cell_type": "code",
   "execution_count": 64,
   "id": "993f153d",
   "metadata": {},
   "outputs": [],
   "source": [
    "import pandas as pd\n",
    "import matplotlib.pyplot as plt\n",
    "import seaborn as sns\n"
   ]
  },
  {
   "cell_type": "code",
   "execution_count": 81,
   "id": "a1e575e1",
   "metadata": {},
   "outputs": [],
   "source": [
    "order_products = pd.read_csv('/home/flaviana/Alexandre/compre_up/export_csv/projeto_01/dados/order_products.csv')\n",
    "orders = pd.read_csv('/home/flaviana/Alexandre/compre_up/export_csv/projeto_01/dados/orders.csv')\n",
    "products = pd.read_csv('/home/flaviana/Alexandre/compre_up/export_csv/projeto_01/dados/products.csv')\n",
    "prices = pd.read_csv('/home/flaviana/Alexandre/compre_up/export_csv/projeto_01/dados/prices.csv')\n",
    "homologated_products = pd.read_csv('/home/flaviana/Alexandre/compre_up/export_csv/projeto_01/dados/homologated_products.csv')"
   ]
  },
  {
   "cell_type": "code",
   "execution_count": 50,
   "id": "245b71ff",
   "metadata": {},
   "outputs": [],
   "source": [
    "# order_products.info()\n",
    "# order_products.describe()\n",
    "\n",
    "# orders.info()\n",
    "# orders.describe()\n",
    "\n",
    "# products.info()\n",
    "# products.describe()\n",
    "\n",
    "# prices.info()\n",
    "# prices.describe()\n",
    "\n",
    "# homologated_products.info()\n",
    "# homologated_products.describe()"
   ]
  },
  {
   "cell_type": "code",
   "execution_count": null,
   "id": "23430a6e",
   "metadata": {},
   "outputs": [],
   "source": [
    "order_products.isnull().sum() # a coluna delivery_date está com 54 valores ausentes\n",
    "\n",
    "orders.isnull().sum() # as colunas: subsidiary_id e seller_id estão com 22 e 21 valores ausentes\n",
    "\n",
    "products.isnull().sum() # as colunas: description e image_url  estão com 13 e 14 valores ausentes\n",
    "\n",
    "prices.isnull().sum() # a coluna supplier_product_id está com 29 valores ausentes\n",
    "\n",
    "homologated_products.isnull().sum() # as colunas: last_purchase_date, last_purchase_value e last_quantity_purchased estão com 3, 3 e 8 valores ausentes"
   ]
  },
  {
   "cell_type": "code",
   "execution_count": 1,
   "id": "0091760a",
   "metadata": {},
   "outputs": [],
   "source": [
    "# plt.figure(figsize=(10, 6))\n",
    "# sns.histplot(prices['value'], bins=30, kde=True)\n",
    "# plt.title('Distribuição de Volume de Compras')\n",
    "# plt.show()\n"
   ]
  }
 ],
 "metadata": {
  "kernelspec": {
   "display_name": ".venv",
   "language": "python",
   "name": "python3"
  },
  "language_info": {
   "codemirror_mode": {
    "name": "ipython",
    "version": 3
   },
   "file_extension": ".py",
   "mimetype": "text/x-python",
   "name": "python",
   "nbconvert_exporter": "python",
   "pygments_lexer": "ipython3",
   "version": "3.12.3"
  }
 },
 "nbformat": 4,
 "nbformat_minor": 5
}
