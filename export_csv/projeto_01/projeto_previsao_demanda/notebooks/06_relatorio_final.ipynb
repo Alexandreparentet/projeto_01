{
 "cells": [
  {
   "cell_type": "markdown",
   "id": "f1a421d3",
   "metadata": {},
   "source": [
    "# Relatório Final do Projeto - Previsão de Demanda"
   ]
  },
  {
   "cell_type": "markdown",
   "id": "c6fd1d6c",
   "metadata": {},
   "source": [
    "## Objetivo\n",
    "Este projeto teve como objetivo prever a demanda de compras, evasão de clientes e volumes, utilizando dados da COMPREUP."
   ]
  },
  {
   "cell_type": "markdown",
   "id": "eb1e7abd",
   "metadata": {},
   "source": [
    "## Metodologia\n",
    "- Análise Exploratória de Dados\n",
    "- Pré-processamento\n",
    "- Modelos de Classificação e Regressão\n",
    "- Avaliação de Desempenho\n",
    "- Comparação entre algoritmos"
   ]
  },
  {
   "cell_type": "markdown",
   "id": "26c844c7",
   "metadata": {},
   "source": [
    "## Conclusão\n",
    "Os modelos apresentaram bom desempenho e estão prontos para serem utilizados em ambientes de produção com novas entradas de dados."
   ]
  }
 ],
 "metadata": {},
 "nbformat": 4,
 "nbformat_minor": 5
}