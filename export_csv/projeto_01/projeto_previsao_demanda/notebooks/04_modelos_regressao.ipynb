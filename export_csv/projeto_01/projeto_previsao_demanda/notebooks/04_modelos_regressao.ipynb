{
 "cells": [
  {
   "cell_type": "markdown",
   "id": "0f5aeea3",
   "metadata": {},
   "source": [
    "# Modelagem - Regressão (Previsão de Volume de Compras)"
   ]
  },
  {
   "cell_type": "code",
   "execution_count": null,
   "id": "cd275320",
   "metadata": {},
   "outputs": [],
   "source": [
    "python\n",
    "from sklearn.model_selection import train_test_split\n",
    "from sklearn.linear_model import LinearRegression\n",
    "from sklearn.metrics import mean_squared_error, r2_score\n",
    "import pandas as pd\n"
   ]
  },
  {
   "cell_type": "code",
   "execution_count": null,
   "id": "1c2ac949",
   "metadata": {},
   "outputs": [],
   "source": [
    "python\n",
    "df = pd.read_csv('../data/processed/dados_limpos.csv')\n"
   ]
  },
  {
   "cell_type": "code",
   "execution_count": null,
   "id": "b7f25f8e",
   "metadata": {},
   "outputs": [],
   "source": [
    "python\n",
    "X = df.drop(columns=['volume_compras'])\n",
    "y = df['volume_compras']\n"
   ]
  },
  {
   "cell_type": "code",
   "execution_count": null,
   "id": "31fb6647",
   "metadata": {},
   "outputs": [],
   "source": [
    "python\n",
    "X_train, X_test, y_train, y_test = train_test_split(X, y, test_size=0.2, random_state=42)\n"
   ]
  },
  {
   "cell_type": "code",
   "execution_count": null,
   "id": "50a6d6ee",
   "metadata": {},
   "outputs": [],
   "source": [
    "python\n",
    "model = LinearRegression()\n",
    "model.fit(X_train, y_train)\n",
    "y_pred = model.predict(X_test)\n",
    "print('RMSE:', mean_squared_error(y_test, y_pred, squared=False))\n",
    "print('R2:', r2_score(y_test, y_pred))\n"
   ]
  }
 ],
 "metadata": {},
 "nbformat": 4,
 "nbformat_minor": 5
}